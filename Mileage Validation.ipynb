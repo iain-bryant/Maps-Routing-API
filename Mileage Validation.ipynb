{
 "cells": [
  {
   "cell_type": "code",
   "execution_count": null,
   "metadata": {},
   "outputs": [],
   "source": [
    "%%HTML\n",
    "<img src=\"https://amendsonline.greenflag.com/images/greenflag/logo.jpg\" width=\"256\">"
   ]
  },
  {
   "cell_type": "code",
   "execution_count": null,
   "metadata": {},
   "outputs": [],
   "source": [
    "import pandas as pd\n",
    "import matplotlib.pyplot as plt\n",
    "pd.set_option('display.max_rows', 500)"
   ]
  },
  {
   "cell_type": "code",
   "execution_count": null,
   "metadata": {},
   "outputs": [],
   "source": [
    "%%HTML\n",
    "<H1>Mileage Validation</H1>\n",
    "<p>I Surveyed 60040 Roadside repairs between November 2018 to October 2019 across our network. <br>I have taken the base pin locations of each SP base(A) as this is where our SP's bill us from. I matched these to the locations of the customer (B) on those 60040 incidents.</p>\n",
    "<p>I then called a search on each incident from Point A to point B for the journey there and then From point B to Point A as a seperate call. <br>This was to ensure the full round trips mileage was calculated correctly for one way systems and/or using Motorway junction to get to the customer and back as Junction entance/exits can vary dependant on the direction you are traveling.</P>\n",
    "<p>For Each incident we then took the total amount of billed mileage for that roadside repair job and divide it by the mileage rate of 1.08 and then added the free mileage amount (usualy 30 miles) and compared what the Service provider told us they did mileage wise (what they paid) against what they actually should have done.</p>"
   ]
  },
  {
   "cell_type": "code",
   "execution_count": null,
   "metadata": {},
   "outputs": [],
   "source": [
    "%%HTML\n",
    "<img src=\"http://fatihtorun.net/wp-content/uploads/2018/05/wordpress-map-map-in-gmaps-directions.jpg\" width=\"512\">"
   ]
  },
  {
   "cell_type": "code",
   "execution_count": null,
   "metadata": {},
   "outputs": [],
   "source": [
    "df = pd.read_csv('mileageresults.csv')"
   ]
  },
  {
   "cell_type": "code",
   "execution_count": null,
   "metadata": {},
   "outputs": [],
   "source": [
    "#set plot dimensions to fit page\n",
    "plt.rcParams['figure.figsize'] = [25, 10]"
   ]
  },
  {
   "cell_type": "code",
   "execution_count": null,
   "metadata": {},
   "outputs": [],
   "source": [
    "df['Delta'] = df['Delta'].round(decimals=1)"
   ]
  },
  {
   "cell_type": "code",
   "execution_count": null,
   "metadata": {},
   "outputs": [],
   "source": [
    "dfdelta = df['Delta']\n",
    "dfSP = df['SPNAME']"
   ]
  },
  {
   "cell_type": "code",
   "execution_count": null,
   "metadata": {},
   "outputs": [],
   "source": []
  },
  {
   "cell_type": "code",
   "execution_count": null,
   "metadata": {},
   "outputs": [],
   "source": [
    "avgdelta = dfdelta.mean()\n",
    "avgdelta = round(avgdelta, 2)"
   ]
  },
  {
   "cell_type": "code",
   "execution_count": null,
   "metadata": {},
   "outputs": [],
   "source": [
    "print('Mean delta mileage from billed')\n",
    "print(avgdelta)"
   ]
  },
  {
   "cell_type": "code",
   "execution_count": null,
   "metadata": {},
   "outputs": [],
   "source": [
    "records = len(df)\n",
    "spend = avgdelta * records * 1.08\n",
    "spend = round(spend, 2)"
   ]
  },
  {
   "cell_type": "code",
   "execution_count": null,
   "metadata": {},
   "outputs": [],
   "source": [
    "print('Count of checks done')\n",
    "print(records)"
   ]
  },
  {
   "cell_type": "code",
   "execution_count": null,
   "metadata": {},
   "outputs": [],
   "source": [
    "print('Total over billed amount')\n",
    "print(\"£\",spend)"
   ]
  },
  {
   "cell_type": "code",
   "execution_count": null,
   "metadata": {},
   "outputs": [],
   "source": [
    "%%HTML\n",
    "<p>Of the 151 Service providers that we ran through lets look for the highest volumes by re ordering the table descending with the number of validations done.</p>\n",
    "<p>Then we will add in the total delta in miles billed from Maps is telling us. Remember these are all roadside repairs so the Service providers should be going out in a service van to repair at the roadside based on the outcome code the SP has put down on the stroke. So they should be capable of driving that vehicle down prety much any road that a car can get down."
   ]
  },
  {
   "cell_type": "code",
   "execution_count": null,
   "metadata": {},
   "outputs": [],
   "source": [
    "dfgrouped = df.groupby('SPNAME', as_index=True)[['Delta']].mean()"
   ]
  },
  {
   "cell_type": "code",
   "execution_count": null,
   "metadata": {},
   "outputs": [],
   "source": [
    "%%HTML\n",
    "<h2>Mean variance in mileage billed</h2>\n",
    "<p>Here we have the mean varianbce in billed mileage from the route maps tells. You can see the table below is ordered from highest to lowest "
   ]
  },
  {
   "cell_type": "code",
   "execution_count": null,
   "metadata": {
    "scrolled": false
   },
   "outputs": [],
   "source": [
    "dfgrouped = dfgrouped.sort_values('Delta',ascending=False)\n",
    "dfgrouped = dfgrouped[dfgrouped['Delta'] > 0]\n",
    "dfgrouped['Delta'] = dfgrouped['Delta'].round(decimals=1)\n",
    "print(dfgrouped)"
   ]
  },
  {
   "cell_type": "code",
   "execution_count": null,
   "metadata": {},
   "outputs": [],
   "source": [
    "dfcounts = pd.read_csv('counts.csv')"
   ]
  },
  {
   "cell_type": "code",
   "execution_count": null,
   "metadata": {},
   "outputs": [],
   "source": [
    "dfcounts = dfcounts.sort_values('total delta miles',ascending=False)\n",
    "dfcounts['average'] = dfcounts['average'].round(decimals=1)\n",
    "dfcounts['total delta miles'] = dfcounts['total delta miles'].round(decimals=1)"
   ]
  },
  {
   "cell_type": "code",
   "execution_count": null,
   "metadata": {},
   "outputs": [],
   "source": [
    "dfcounts = dfcounts[dfcounts['count'] > 100]\n",
    "dfcounts = dfcounts[dfcounts['total delta miles'] > 0]\n",
    "deltsmiles = dfcounts['total delta miles']\n",
    "SPNAMES = dfcounts['SPNAME']\n",
    "county = dfcounts['count']"
   ]
  },
  {
   "cell_type": "code",
   "execution_count": null,
   "metadata": {},
   "outputs": [],
   "source": []
  },
  {
   "cell_type": "code",
   "execution_count": null,
   "metadata": {},
   "outputs": [],
   "source": [
    "%%HTML\n",
    "<h2>Total miles overbilled</h2>"
   ]
  },
  {
   "cell_type": "code",
   "execution_count": null,
   "metadata": {},
   "outputs": [],
   "source": [
    "plt.bar(SPNAMES, deltsmiles)\n",
    "plt.xticks(rotation=90)\n",
    "plt.show()"
   ]
  },
  {
   "cell_type": "code",
   "execution_count": null,
   "metadata": {},
   "outputs": [],
   "source": [
    "%%HTML\n",
    "<script>\n",
    "  function code_toggle() {\n",
    "    if (code_shown){\n",
    "      $('div.input').hide('500');\n",
    "      $('#toggleButton').val('x')\n",
    "    } else {\n",
    "      $('div.input').show('500');\n",
    "      $('#toggleButton').val('x')\n",
    "    }\n",
    "    code_shown = !code_shown\n",
    "  }\n",
    "\n",
    "  $( document ).ready(function(){\n",
    "    code_shown=false;\n",
    "    $('div.input').hide()\n",
    "  });\n",
    "</script>\n",
    "<form action=\"javascript:code_toggle()\"><input type=\"submit\" id=\"toggleButton\" value=\"x\"></form>"
   ]
  },
  {
   "cell_type": "code",
   "execution_count": null,
   "metadata": {},
   "outputs": [],
   "source": []
  }
 ],
 "metadata": {
  "kernelspec": {
   "display_name": "Python 3",
   "language": "python",
   "name": "python3"
  },
  "language_info": {
   "codemirror_mode": {
    "name": "ipython",
    "version": 3
   },
   "file_extension": ".py",
   "mimetype": "text/x-python",
   "name": "python",
   "nbconvert_exporter": "python",
   "pygments_lexer": "ipython3",
   "version": "3.6.5"
  }
 },
 "nbformat": 4,
 "nbformat_minor": 2
}
